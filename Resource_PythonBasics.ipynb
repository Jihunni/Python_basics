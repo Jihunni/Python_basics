{
  "nbformat": 4,
  "nbformat_minor": 0,
  "metadata": {
    "colab": {
      "name": "Resource_PythonBasics.ipynb",
      "provenance": [],
      "toc_visible": true,
      "authorship_tag": "ABX9TyN4oNmthRmAogwTjZ3wvJYM",
      "include_colab_link": true
    },
    "kernelspec": {
      "name": "python3",
      "display_name": "Python 3"
    },
    "language_info": {
      "name": "python"
    }
  },
  "cells": [
    {
      "cell_type": "markdown",
      "metadata": {
        "id": "view-in-github",
        "colab_type": "text"
      },
      "source": [
        "<a href=\"https://colab.research.google.com/github/Jihunni/Python_basics/blob/master/Resource_PythonBasics.ipynb\" target=\"_parent\"><img src=\"https://colab.research.google.com/assets/colab-badge.svg\" alt=\"Open In Colab\"/></a>"
      ]
    },
    {
      "cell_type": "markdown",
      "metadata": {
        "id": "mANoM5FmDk6r"
      },
      "source": [
        "# Linux command"
      ]
    },
    {
      "cell_type": "code",
      "metadata": {
        "id": "Ybdn-Hv3DnDk"
      },
      "source": [
        "pwd"
      ],
      "execution_count": null,
      "outputs": []
    },
    {
      "cell_type": "code",
      "metadata": {
        "id": "po-FIbumDp2l"
      },
      "source": [
        "ls /content/drive/MyDrive/'Colab Notebooks'/EnerGist_2021.07/Data/"
      ],
      "execution_count": null,
      "outputs": []
    },
    {
      "cell_type": "markdown",
      "metadata": {
        "id": "2jCOmqi-dyNg"
      },
      "source": [
        "# Library"
      ]
    },
    {
      "cell_type": "code",
      "metadata": {
        "id": "fP6Fvesdd1g1"
      },
      "source": [
        "import pandas as pd\n",
        "import matplotlib.pyplot as plt\n",
        "import numpy as np\n",
        "%matplotlib inline  \n",
        "\n",
        "import math\n",
        "\n",
        "#import libaray\n",
        "import tensorflow as tf\n",
        "\n",
        "#stimestamp\n",
        "from datetime import datetime\n",
        "import time\n"
      ],
      "execution_count": null,
      "outputs": []
    },
    {
      "cell_type": "markdown",
      "metadata": {
        "id": "vV3GMh99fBhA"
      },
      "source": [
        "# Google Drive"
      ]
    },
    {
      "cell_type": "code",
      "metadata": {
        "id": "LgdvaGC7fHj4"
      },
      "source": [
        "from google.colab import drive\n",
        "drive.mount('/content/drive/')"
      ],
      "execution_count": null,
      "outputs": []
    },
    {
      "cell_type": "code",
      "metadata": {
        "id": "G4SPv7y3fNpk"
      },
      "source": [
        "pwd"
      ],
      "execution_count": null,
      "outputs": []
    },
    {
      "cell_type": "code",
      "metadata": {
        "id": "ur2Cst_JfLUT"
      },
      "source": [
        "ls /content/drive/MyDrive/'Colab Notebooks'/EnerGist_2021.07/Data/"
      ],
      "execution_count": null,
      "outputs": []
    },
    {
      "cell_type": "code",
      "metadata": {
        "id": "rmtyxDmffZbt"
      },
      "source": [
        "import os\n",
        "import os.path\n",
        "file_list = os.listdir(\"/content/drive/MyDrive/Colab Notebooks/Data/Load/\")"
      ],
      "execution_count": null,
      "outputs": []
    },
    {
      "cell_type": "code",
      "metadata": {
        "id": "8N4D5E9Rfd8z"
      },
      "source": [
        "#store files in df\n",
        "df = []\n",
        "\n",
        "for filename in file_list[0:10]: \n",
        "  print(filename)\n",
        "  df.append(pd.DataFrame(pd.read_excel(\"/content/drive/MyDrive/Colab Notebooks/EnerGist_2021.07/Data/Load/\"+filename, header=2)))"
      ],
      "execution_count": null,
      "outputs": []
    },
    {
      "cell_type": "markdown",
      "metadata": {
        "id": "Z4RwbfKYdZd4"
      },
      "source": [
        "# Data Type"
      ]
    },
    {
      "cell_type": "markdown",
      "metadata": {
        "id": "Z9jgQSef05S1"
      },
      "source": [
        "- int, float, double\n",
        "- NA\n",
        "- list, vector\n",
        "- PD: dataframe\n",
        "- NP : "
      ]
    },
    {
      "cell_type": "code",
      "metadata": {
        "id": "TdMSUJ7zS5xf"
      },
      "source": [
        "type(variable)\n",
        "\n",
        "NA"
      ],
      "execution_count": null,
      "outputs": []
    },
    {
      "cell_type": "markdown",
      "metadata": {
        "id": "_6SJbt0SZy7c"
      },
      "source": [
        "## int"
      ]
    },
    {
      "cell_type": "code",
      "metadata": {
        "id": "b70t4RGbZx05"
      },
      "source": [
        "#type conversion\n",
        "int(variable)"
      ],
      "execution_count": null,
      "outputs": []
    },
    {
      "cell_type": "markdown",
      "metadata": {
        "id": "1OnAep90e0bQ"
      },
      "source": [
        "## list"
      ]
    },
    {
      "cell_type": "code",
      "metadata": {
        "id": "dl0b6Z5Ms4jw"
      },
      "source": [
        "#slicing method\n",
        "#ref: https://twpower.github.io/119-python-list-slicing-examples"
      ],
      "execution_count": null,
      "outputs": []
    },
    {
      "cell_type": "code",
      "metadata": {
        "id": "ievChr9fe0FY"
      },
      "source": [
        "list.append()"
      ],
      "execution_count": null,
      "outputs": []
    },
    {
      "cell_type": "code",
      "metadata": {
        "id": "i49dWoGze5IX"
      },
      "source": [
        "list[0:4]"
      ],
      "execution_count": null,
      "outputs": []
    },
    {
      "cell_type": "code",
      "metadata": {
        "id": "v2x3jcIsZLJV"
      },
      "source": [
        "#existence of element in a list\n",
        "element in list\n",
        "element not in list\n",
        "  e.g. 4 in [1,2,3,4]"
      ],
      "execution_count": null,
      "outputs": []
    },
    {
      "cell_type": "code",
      "metadata": {
        "id": "5-86PJxOlK7n"
      },
      "source": [
        "# remove an element in a list\n",
        "list.remove(value)\n",
        "e.g. ex_list.remve('remove_element')"
      ],
      "execution_count": null,
      "outputs": []
    },
    {
      "cell_type": "markdown",
      "metadata": {
        "id": "ESLLVjrJdkkW"
      },
      "source": [
        "## string"
      ]
    },
    {
      "cell_type": "code",
      "metadata": {
        "id": "PYBTmVbrfqog"
      },
      "source": [
        "#convert a varible into string\n",
        "str(variable)"
      ],
      "execution_count": null,
      "outputs": []
    },
    {
      "cell_type": "markdown",
      "metadata": {
        "id": "McI0706TfcLf"
      },
      "source": [
        "#### string concatenation and split"
      ]
    },
    {
      "cell_type": "code",
      "metadata": {
        "id": "Bwl56ze6fbRw"
      },
      "source": [
        "'abc' + 'efg'"
      ],
      "execution_count": null,
      "outputs": []
    },
    {
      "cell_type": "code",
      "metadata": {
        "colab": {
          "base_uri": "https://localhost:8080/",
          "height": 35
        },
        "id": "ZTEezv2jdYqY",
        "outputId": "78ecfdbd-b3d2-4127-aae5-8e67d92061a4"
      },
      "source": [
        "#concat string (merge string)\n",
        "'abc'.join('efg')"
      ],
      "execution_count": null,
      "outputs": [
        {
          "output_type": "execute_result",
          "data": {
            "application/vnd.google.colaboratory.intrinsic+json": {
              "type": "string"
            },
            "text/plain": [
              "'eabcfabcg'"
            ]
          },
          "metadata": {
            "tags": []
          },
          "execution_count": 1
        }
      ]
    },
    {
      "cell_type": "code",
      "metadata": {
        "id": "g05tEwZ9dKbv"
      },
      "source": [
        "##split string\n",
        "filename = 'Peak03-2019-01-31.xls'\n",
        "split = filename.split('-', 1) #split by '-'; one time\n",
        "date = split[1].split('.')[0]\n"
      ],
      "execution_count": null,
      "outputs": []
    },
    {
      "cell_type": "markdown",
      "metadata": {
        "id": "Bi4kkFCTkYbY"
      },
      "source": [
        "## set\n",
        "https://dev.to/svinci/intersection-union-and-difference-of-sets-in-python-4gkn"
      ]
    },
    {
      "cell_type": "code",
      "metadata": {
        "id": "Qxkbc8POkeA8"
      },
      "source": [
        "#type conversion\n",
        "set_a = set([1, 2, 3]) #convert list into set\n",
        "list_a = list(set_a) # convert set into list\n",
        "\n"
      ],
      "execution_count": null,
      "outputs": []
    },
    {
      "cell_type": "code",
      "metadata": {
        "colab": {
          "base_uri": "https://localhost:8080/"
        },
        "id": "iZx8qorak0o2",
        "outputId": "258d0d0b-4b9b-4981-ba00-90198f6f5e4c"
      },
      "source": [
        "#iteration\n",
        "my_pets = set(['dog', 'cat', 'parrot'])\n",
        "for pet in my_pets:\n",
        "    print('Hello, {}!'.format(pet))"
      ],
      "execution_count": null,
      "outputs": [
        {
          "output_type": "stream",
          "text": [
            "Hello, dog!\n",
            "Hello, cat!\n",
            "Hello, parrot!\n"
          ],
          "name": "stdout"
        }
      ]
    },
    {
      "cell_type": "code",
      "metadata": {
        "id": "3kJ9J6w7k5UL"
      },
      "source": [
        "set_a.intersection(set_b)\n",
        "set_a.union(set_b)\n",
        "set_a.difference(set_b)"
      ],
      "execution_count": null,
      "outputs": []
    },
    {
      "cell_type": "markdown",
      "metadata": {
        "id": "eg0IuV8ljKpb"
      },
      "source": [
        "## dictionary\n",
        "- https://wikidocs.net/16\n",
        "\n",
        "\n"
      ]
    },
    {
      "cell_type": "code",
      "metadata": {
        "id": "2vcuxWf5jRHn"
      },
      "source": [
        "#create dictionary\n",
        "dictionary = {key:value, key2=value2}\n",
        "  ## key in a dictionary sholud be unique\n",
        "e.g. dic = {'name':'pey', 'phone':'0119993323', 'birth': '1118'}"
      ],
      "execution_count": null,
      "outputs": []
    },
    {
      "cell_type": "code",
      "metadata": {
        "id": "Gk43w9ksjdYL"
      },
      "source": [
        "# add element in a dictionary\n",
        "dictionary[new_key] = new_value\n",
        "e.g. dic['new_key'] = new_value\n",
        "\n",
        "# remove element in a dictionary by a key\n",
        "del dic['new_key']"
      ],
      "execution_count": null,
      "outputs": []
    },
    {
      "cell_type": "code",
      "metadata": {
        "id": "9WmQrJHvj2di"
      },
      "source": [
        "#query a dictionary\n",
        "dic.items() \n",
        "dic.keys() #return type: dict_keys\n",
        "dic.values()\n",
        "\n",
        "#get a value by a key\n",
        "dictionary.get('key')\n",
        "\n",
        "#check the exisence of key\n",
        "'key_of_interest' in dic"
      ],
      "execution_count": null,
      "outputs": []
    },
    {
      "cell_type": "code",
      "metadata": {
        "id": "lqh7HLsNkSX9"
      },
      "source": [
        "# count the number of value in a dictionary\n",
        "## ref: https://stackoverflow.com/questions/23240969/python-count-repeated-elements-in-the-list\n",
        "\n",
        "my_dict = {i:MyList.count(i) for i in MyList}\n",
        "\n",
        ">>> print my_dict     #or print(my_dict) in python-3.x\n",
        "{'a': 3, 'c': 3, 'b': 1}"
      ],
      "execution_count": null,
      "outputs": []
    },
    {
      "cell_type": "markdown",
      "metadata": {
        "id": "A-aYSh5cFZ86"
      },
      "source": [
        "## Pandas Series"
      ]
    },
    {
      "cell_type": "code",
      "metadata": {
        "id": "_tyIjPCwMaEj"
      },
      "source": [
        "#create series\n",
        "pd.Series([1, 2, 3, 4], index=['a', 'b', 'c', 'd'])\n",
        "\n",
        "#create series\n",
        "dictionary = {\"key1\" : val1, \"key2\" : val2, \"key3\" : val3}\n",
        "  e.g. series={\"a\" : 1, \"b\" :2}\n",
        "obj.series = pd.Series(dictionary)"
      ],
      "execution_count": null,
      "outputs": []
    },
    {
      "cell_type": "code",
      "metadata": {
        "id": "Ch9MXH9AHCFk"
      },
      "source": [
        "series.name #name of series\n",
        "series.index.name #name of index of series"
      ],
      "execution_count": null,
      "outputs": []
    },
    {
      "cell_type": "code",
      "metadata": {
        "id": "E2pB2gXiFhXv"
      },
      "source": [
        "series.index #index\n",
        "series.values\n",
        "series.dtypes"
      ],
      "execution_count": null,
      "outputs": []
    },
    {
      "cell_type": "code",
      "metadata": {
        "id": "556M_9qCFcSR"
      },
      "source": [
        "series.sum(axis=0)\n",
        "series.sum(axis=1)"
      ],
      "execution_count": null,
      "outputs": []
    },
    {
      "cell_type": "markdown",
      "metadata": {
        "id": "TTR2LqghedEt"
      },
      "source": [
        "## Pandas Dataframe"
      ]
    },
    {
      "cell_type": "code",
      "metadata": {
        "id": "dxocgypvIP19"
      },
      "source": [
        "#data exploration\n",
        "df.index\n",
        "df.columns\n",
        "df.values\n",
        "\n",
        "df.index.name\n",
        "df.columns.name\n",
        "\n",
        "df.info()\n",
        "df.describe()\n",
        "\n",
        "##plot1\n",
        "df.plt()\n",
        "\n",
        "##plot2\n",
        "df.T.iloc[:,1:3].plot()\n",
        "plt.title('plot title')"
      ],
      "execution_count": null,
      "outputs": []
    },
    {
      "cell_type": "code",
      "metadata": {
        "id": "rOgNMunGu5ll"
      },
      "source": [
        "#rename colnames\n",
        "df.rename(columns={\"old_colname\":\"new_colname\"}, inplace=True)"
      ],
      "execution_count": null,
      "outputs": []
    },
    {
      "cell_type": "code",
      "metadata": {
        "id": "CNfAVpwtFnpY"
      },
      "source": [
        "#convert multiple pandas series into a dataframe\n",
        "df = concat([series1, series2, series3], axis=0) #by row\n",
        "df = concat([series1, series2, series3], axis=1) #by column"
      ],
      "execution_count": null,
      "outputs": []
    },
    {
      "cell_type": "code",
      "metadata": {
        "id": "jZhAixS7encw"
      },
      "source": [
        "df = df.iloc[1:2,3:4]"
      ],
      "execution_count": null,
      "outputs": []
    },
    {
      "cell_type": "code",
      "metadata": {
        "id": "zxp6xdBJ45hn"
      },
      "source": [
        "df1.append(df2)"
      ],
      "execution_count": null,
      "outputs": []
    },
    {
      "cell_type": "code",
      "metadata": {
        "id": "eZRyDoAByW6_"
      },
      "source": [
        "#check NA\n",
        "https://datatofish.com/check-nan-pandas-dataframe/\n",
        "\n",
        "def is_na(x):\n",
        "  return (x != x)\n",
        "\n",
        "#NA location\n",
        "df[df.isnull().any(axis=1)]['colName']\n",
        "df[df.isnull().any(axis=1)]['colName'].index"
      ],
      "execution_count": null,
      "outputs": []
    },
    {
      "cell_type": "markdown",
      "metadata": {
        "id": "WiD0TCJbyVE3"
      },
      "source": [
        "### merge"
      ]
    },
    {
      "cell_type": "code",
      "metadata": {
        "id": "Q7ujQUPX4iTl"
      },
      "source": [
        "#df_merge requires the same colname by which dataframes are joined\n",
        "df_merge = pd.merge(df1, df2, how='outer/inner', on='common_colname')"
      ],
      "execution_count": null,
      "outputs": []
    },
    {
      "cell_type": "code",
      "metadata": {
        "id": "syyIf_aN4pHY"
      },
      "source": [
        "df_concat = pd.concat([df1, df2], axis = 1)"
      ],
      "execution_count": null,
      "outputs": []
    },
    {
      "cell_type": "markdown",
      "metadata": {
        "id": "qhG3zRvPl5FS"
      },
      "source": [
        "### Data save and load\n",
        "https://www.shanelynn.ie/python-pandas-read-csv-load-data-from-csv-files/    #l\n",
        "https://rfriend.tistory.com/250"
      ]
    },
    {
      "cell_type": "code",
      "metadata": {
        "id": "GNkAi8KIl-2E"
      },
      "source": [
        "#load\n",
        "df_data.to_csv('path/filename.csv', sep=',', na_rep='Na')\n",
        "\n",
        "#read\n",
        "pd_dataframe = pd.read_csv('path/filename.csv', sep=',', index_col=0)\n",
        "pd_dataframe = pd.read_csv('path/filename.csv', sep=',', index_col='ID')"
      ],
      "execution_count": null,
      "outputs": []
    },
    {
      "cell_type": "markdown",
      "metadata": {
        "id": "YjectSwziNPs"
      },
      "source": [
        "## Numapy Array"
      ]
    },
    {
      "cell_type": "code",
      "metadata": {
        "id": "MSZQRDneiLyr"
      },
      "source": [
        "#convert list into array\n",
        "array = np.array(list)"
      ],
      "execution_count": null,
      "outputs": []
    },
    {
      "cell_type": "code",
      "metadata": {
        "id": "Y_IjHluaJLGT"
      },
      "source": [
        "#convert pandas series/dataframe into numpy array\n",
        "array = dataframe.to_numpy()\n",
        "array = series.to_numpy()"
      ],
      "execution_count": null,
      "outputs": []
    },
    {
      "cell_type": "code",
      "metadata": {
        "id": "fujOfml7oXwq"
      },
      "source": [
        "np.eye(4) #Identity matrix"
      ],
      "execution_count": null,
      "outputs": []
    },
    {
      "cell_type": "markdown",
      "metadata": {
        "id": "_fkeiS1Id6dR"
      },
      "source": [
        "## timestamp"
      ]
    },
    {
      "cell_type": "code",
      "metadata": {
        "id": "dbq5ewz7d-zA"
      },
      "source": [
        "#timestamp example\n",
        "print(date + ' ' + df_data.columns[0])\n",
        "timestamp = time.mktime(datetime.strptime(date + ' ' + df_data.columns[0], '%Y-%m-%d %H:%M').timetuple())\n",
        "print(timestamp)"
      ],
      "execution_count": null,
      "outputs": []
    },
    {
      "cell_type": "markdown",
      "metadata": {
        "id": "fsMMwnmjd9Vh"
      },
      "source": [
        "# loop"
      ]
    },
    {
      "cell_type": "code",
      "metadata": {
        "id": "xZ_0EixBS-5B"
      },
      "source": [
        "if condition:\n",
        "  command\n",
        "elif condition:\n",
        "  command\n",
        "else:\n",
        "  command"
      ],
      "execution_count": null,
      "outputs": []
    },
    {
      "cell_type": "code",
      "metadata": {
        "id": "TiqF2K0iZJDb"
      },
      "source": [
        ""
      ],
      "execution_count": null,
      "outputs": []
    },
    {
      "cell_type": "code",
      "metadata": {
        "id": "mZPzRc3jd-NL"
      },
      "source": [
        "for i in range(len()):\n",
        "  cmd"
      ],
      "execution_count": null,
      "outputs": []
    },
    {
      "cell_type": "code",
      "metadata": {
        "colab": {
          "base_uri": "https://localhost:8080/",
          "height": 183
        },
        "id": "ohyqYP6_JyUU",
        "outputId": "75d665f8-6cb0-4108-ff28-11cff43d5813"
      },
      "source": [
        "for i in pd.Series([1,2,3,4]):\n",
        "  print(i)"
      ],
      "execution_count": null,
      "outputs": [
        {
          "output_type": "error",
          "ename": "NameError",
          "evalue": "ignored",
          "traceback": [
            "\u001b[0;31m---------------------------------------------------------------------------\u001b[0m",
            "\u001b[0;31mNameError\u001b[0m                                 Traceback (most recent call last)",
            "\u001b[0;32m<ipython-input-1-0062e031e397>\u001b[0m in \u001b[0;36m<module>\u001b[0;34m()\u001b[0m\n\u001b[0;32m----> 1\u001b[0;31m \u001b[0;32mfor\u001b[0m \u001b[0mi\u001b[0m \u001b[0;32min\u001b[0m \u001b[0mpd\u001b[0m\u001b[0;34m.\u001b[0m\u001b[0mSeries\u001b[0m\u001b[0;34m(\u001b[0m\u001b[0;34m[\u001b[0m\u001b[0;36m1\u001b[0m\u001b[0;34m,\u001b[0m\u001b[0;36m2\u001b[0m\u001b[0;34m,\u001b[0m\u001b[0;36m3\u001b[0m\u001b[0;34m,\u001b[0m\u001b[0;36m4\u001b[0m\u001b[0;34m]\u001b[0m\u001b[0;34m)\u001b[0m\u001b[0;34m:\u001b[0m\u001b[0;34m\u001b[0m\u001b[0;34m\u001b[0m\u001b[0m\n\u001b[0m\u001b[1;32m      2\u001b[0m   \u001b[0mprint\u001b[0m\u001b[0;34m(\u001b[0m\u001b[0mi\u001b[0m\u001b[0;34m)\u001b[0m\u001b[0;34m\u001b[0m\u001b[0;34m\u001b[0m\u001b[0m\n",
            "\u001b[0;31mNameError\u001b[0m: name 'pd' is not defined"
          ]
        }
      ]
    },
    {
      "cell_type": "code",
      "metadata": {
        "colab": {
          "base_uri": "https://localhost:8080/",
          "height": 166
        },
        "id": "6oAglOW4eQhm",
        "outputId": "0092afe5-dea2-4ab4-bf19-23e041c2eb88"
      },
      "source": [
        "[files for files in filenames]"
      ],
      "execution_count": null,
      "outputs": [
        {
          "output_type": "error",
          "ename": "NameError",
          "evalue": "ignored",
          "traceback": [
            "\u001b[0;31m---------------------------------------------------------------------------\u001b[0m",
            "\u001b[0;31mNameError\u001b[0m                                 Traceback (most recent call last)",
            "\u001b[0;32m<ipython-input-2-c28b8f8966fc>\u001b[0m in \u001b[0;36m<module>\u001b[0;34m()\u001b[0m\n\u001b[0;32m----> 1\u001b[0;31m \u001b[0;34m[\u001b[0m\u001b[0mfiles\u001b[0m \u001b[0;32mfor\u001b[0m \u001b[0mfiles\u001b[0m \u001b[0;32min\u001b[0m \u001b[0mfilenames\u001b[0m\u001b[0;34m]\u001b[0m\u001b[0;34m\u001b[0m\u001b[0;34m\u001b[0m\u001b[0m\n\u001b[0m",
            "\u001b[0;31mNameError\u001b[0m: name 'filenames' is not defined"
          ]
        }
      ]
    },
    {
      "cell_type": "code",
      "metadata": {
        "id": "3dBlFghIkSew"
      },
      "source": [
        "while(True):\n",
        "  command"
      ],
      "execution_count": null,
      "outputs": []
    },
    {
      "cell_type": "markdown",
      "metadata": {
        "id": "ulLVnSDRi8LD"
      },
      "source": [
        "# Data Exploration"
      ]
    },
    {
      "cell_type": "code",
      "metadata": {
        "id": "Bzamh6KkjLBE"
      },
      "source": [
        "df['discrete_colname'].value_counts()"
      ],
      "execution_count": null,
      "outputs": []
    },
    {
      "cell_type": "code",
      "metadata": {
        "id": "yrs-8nr-jLct"
      },
      "source": [
        "df['continuous_colname'].describe()"
      ],
      "execution_count": null,
      "outputs": []
    },
    {
      "cell_type": "markdown",
      "metadata": {
        "id": "EYvHjmUCjAxV"
      },
      "source": [
        "# Plot\n",
        "\n"
      ]
    },
    {
      "cell_type": "code",
      "metadata": {
        "id": "H27ryAukjU12"
      },
      "source": [
        "#basic setting\n",
        "%matplot inline #only in a Jupyter notebook\n",
        "import matplotlib.pyplot as plt\n",
        "\n",
        "#figure size\n",
        "plt.rcParams['figure.figsize'] = [10, 5]"
      ],
      "execution_count": null,
      "outputs": []
    },
    {
      "cell_type": "code",
      "metadata": {
        "id": "jlpO0xU6cyCC"
      },
      "source": [
        "df.hist(bins, figsize=(20,15))"
      ],
      "execution_count": null,
      "outputs": []
    },
    {
      "cell_type": "code",
      "metadata": {
        "id": "nST7FeHXcihK"
      },
      "source": [
        "x = list\n",
        "y = list\n",
        "t = list_time\n",
        "\n",
        "plt.figure\n",
        "plt.subplot(1,1,1)\n",
        "plt.plot(t, xn, 'b')\n",
        "plt.plot(t, y, 'r')\n",
        "plt.legend(('legend_x','legend_y'), loc='best')\n",
        "plt.grid(True)\n",
        "plt.show()"
      ],
      "execution_count": null,
      "outputs": []
    },
    {
      "cell_type": "code",
      "metadata": {
        "id": "xDh4LEhLVM3Y",
        "colab": {
          "base_uri": "https://localhost:8080/",
          "height": 295
        },
        "outputId": "935a95b1-74cb-445c-8165-2ea9d2ef008d"
      },
      "source": [
        "import numpy as np \n",
        "import pylab \n",
        "import scipy.stats as stats\n",
        "\n",
        "measurements = np.random.normal(loc = 20, scale = 5, size=100)   \n",
        "stats.probplot(measurements, dist=\"norm\", plot=pylab)\n",
        "pylab.show()"
      ],
      "execution_count": null,
      "outputs": [
        {
          "output_type": "display_data",
          "data": {
            "image/png": "[encoded data removed]",
            "text/plain": [
              "<Figure size 432x288 with 1 Axes>"
            ]
          },
          "metadata": {
            "tags": [],
            "needs_background": "light"
          }
        }
      ]
    },
    {
      "cell_type": "markdown",
      "metadata": {
        "id": "iqqrznrGi-P1"
      },
      "source": [
        "# math "
      ]
    },
    {
      "cell_type": "markdown",
      "metadata": {
        "id": "w5UxQ0Gllpci"
      },
      "source": [
        "https://wikidocs.net/21113"
      ]
    },
    {
      "cell_type": "code",
      "metadata": {
        "id": "_4-N3aQ2ldyt"
      },
      "source": [
        "math.floor(3.14)\n",
        "round(3.14)"
      ],
      "execution_count": null,
      "outputs": []
    },
    {
      "cell_type": "markdown",
      "metadata": {
        "id": "2LyTusfHd0Vq"
      },
      "source": [
        "# random module\n",
        "https://www.daleseo.com/python-random/"
      ]
    },
    {
      "cell_type": "code",
      "metadata": {
        "id": "_jPdml_zd2Ea"
      },
      "source": [
        "import random\n",
        "random.rand() # Random float x, 0.0 <= x < 1.0\n",
        "random.uniform(1, 10)  # Random float x, 1.0 <= x < 10.0\n",
        "random.randint(1, 10)  # Integer from 1 to 10, endpoints included\n",
        "random.randrange(0, 101, 2)  # Even integer from 0 to 100\n",
        "random.choice('abcdefghij')  # Choose a random element\n",
        "random.sample([1, 2, 3, 4, 5],  3)  # Choose 3 elements"
      ],
      "execution_count": null,
      "outputs": []
    },
    {
      "cell_type": "code",
      "metadata": {
        "id": "FiUAv6UreKtm"
      },
      "source": [
        "#(randomly) shuffle \n",
        "items = [1, 2, 3, 4, 5, 6, 7]\n",
        "random.shuffle(items)\n",
        "items"
      ],
      "execution_count": null,
      "outputs": []
    },
    {
      "cell_type": "markdown",
      "metadata": {
        "id": "-i46yV0Gd1Y0"
      },
      "source": [
        ""
      ]
    }
  ]
}