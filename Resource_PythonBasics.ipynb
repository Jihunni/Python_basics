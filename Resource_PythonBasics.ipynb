{
  "nbformat": 4,
  "nbformat_minor": 0,
  "metadata": {
    "colab": {
      "name": "Resource_PythonBasics.ipynb",
      "provenance": [],
      "authorship_tag": "ABX9TyNh29cN3yem7q3wAzee0IOY",
      "include_colab_link": true
    },
    "kernelspec": {
      "name": "python3",
      "display_name": "Python 3"
    },
    "language_info": {
      "name": "python"
    }
  },
  "cells": [
    {
      "cell_type": "markdown",
      "metadata": {
        "id": "view-in-github",
        "colab_type": "text"
      },
      "source": [
        "<a href=\"https://colab.research.google.com/github/Jihunni/Python_basics/blob/master/Resource_PythonBasics.ipynb\" target=\"_parent\"><img src=\"https://colab.research.google.com/assets/colab-badge.svg\" alt=\"Open In Colab\"/></a>"
      ]
    },
    {
      "cell_type": "markdown",
      "metadata": {
        "id": "mANoM5FmDk6r"
      },
      "source": [
        "# Linux command"
      ]
    },
    {
      "cell_type": "code",
      "metadata": {
        "id": "Ybdn-Hv3DnDk"
      },
      "source": [
        "pwd"
      ],
      "execution_count": null,
      "outputs": []
    },
    {
      "cell_type": "code",
      "metadata": {
        "id": "po-FIbumDp2l"
      },
      "source": [
        "ls /content/drive/MyDrive/'Colab Notebooks'/EnerGist_2021.07/Data/"
      ],
      "execution_count": null,
      "outputs": []
    },
    {
      "cell_type": "code",
      "metadata": {
        "id": "C1nnHPZ-DwBZ"
      },
      "source": [
        ""
      ],
      "execution_count": null,
      "outputs": []
    },
    {
      "cell_type": "markdown",
      "metadata": {
        "id": "2jCOmqi-dyNg"
      },
      "source": [
        "# Library"
      ]
    },
    {
      "cell_type": "code",
      "metadata": {
        "id": "fP6Fvesdd1g1"
      },
      "source": [
        "import pandas as pd\n",
        "import matplotlib.pyplot as plt\n",
        "import numpy as np\n",
        "%matplotlib inline  \n",
        "\n",
        "#import libaray\n",
        "import tensorflow as tf\n",
        "\n",
        "#stimestamp\n",
        "from datetime import datetime\n",
        "import time\n"
      ],
      "execution_count": null,
      "outputs": []
    },
    {
      "cell_type": "markdown",
      "metadata": {
        "id": "vV3GMh99fBhA"
      },
      "source": [
        "# Google Drive"
      ]
    },
    {
      "cell_type": "code",
      "metadata": {
        "id": "LgdvaGC7fHj4"
      },
      "source": [
        "from google.colab import drive\n",
        "drive.mount('/content/drive/')"
      ],
      "execution_count": null,
      "outputs": []
    },
    {
      "cell_type": "code",
      "metadata": {
        "id": "G4SPv7y3fNpk"
      },
      "source": [
        "pwd"
      ],
      "execution_count": null,
      "outputs": []
    },
    {
      "cell_type": "code",
      "metadata": {
        "id": "ur2Cst_JfLUT"
      },
      "source": [
        "ls /content/drive/MyDrive/'Colab Notebooks'/EnerGist_2021.07/Data/"
      ],
      "execution_count": null,
      "outputs": []
    },
    {
      "cell_type": "code",
      "metadata": {
        "id": "rmtyxDmffZbt"
      },
      "source": [
        "import os\n",
        "import os.path\n",
        "file_list = os.listdir(\"/content/drive/MyDrive/Colab Notebooks/Data/Load/\")"
      ],
      "execution_count": null,
      "outputs": []
    },
    {
      "cell_type": "code",
      "metadata": {
        "id": "8N4D5E9Rfd8z"
      },
      "source": [
        "#store files in df\n",
        "df = []\n",
        "\n",
        "for filename in file_list[0:10]: \n",
        "  print(filename)\n",
        "  df.append(pd.DataFrame(pd.read_excel(\"/content/drive/MyDrive/Colab Notebooks/EnerGist_2021.07/Data/Load/\"+filename, header=2)))"
      ],
      "execution_count": null,
      "outputs": []
    },
    {
      "cell_type": "markdown",
      "metadata": {
        "id": "Z4RwbfKYdZd4"
      },
      "source": [
        "# Data Type"
      ]
    },
    {
      "cell_type": "code",
      "metadata": {
        "id": "TdMSUJ7zS5xf"
      },
      "source": [
        "NA"
      ],
      "execution_count": null,
      "outputs": []
    },
    {
      "cell_type": "markdown",
      "metadata": {
        "id": "_6SJbt0SZy7c"
      },
      "source": [
        "## int"
      ]
    },
    {
      "cell_type": "code",
      "metadata": {
        "id": "b70t4RGbZx05"
      },
      "source": [
        "#type conversion\n",
        "int(variable)"
      ],
      "execution_count": null,
      "outputs": []
    },
    {
      "cell_type": "markdown",
      "metadata": {
        "id": "1OnAep90e0bQ"
      },
      "source": [
        "## list"
      ]
    },
    {
      "cell_type": "code",
      "metadata": {
        "id": "ievChr9fe0FY"
      },
      "source": [
        "list.append()"
      ],
      "execution_count": null,
      "outputs": []
    },
    {
      "cell_type": "code",
      "metadata": {
        "id": "i49dWoGze5IX"
      },
      "source": [
        "list[0:4]"
      ],
      "execution_count": null,
      "outputs": []
    },
    {
      "cell_type": "code",
      "metadata": {
        "id": "v2x3jcIsZLJV"
      },
      "source": [
        "#existence of element in a list\n",
        "element in list\n",
        "element not in list\n",
        "  e.g. 4 in [1,2,3,4]"
      ],
      "execution_count": null,
      "outputs": []
    },
    {
      "cell_type": "markdown",
      "metadata": {
        "id": "ESLLVjrJdkkW"
      },
      "source": [
        "## string"
      ]
    },
    {
      "cell_type": "code",
      "metadata": {
        "colab": {
          "base_uri": "https://localhost:8080/",
          "height": 35
        },
        "id": "ZTEezv2jdYqY",
        "outputId": "78ecfdbd-b3d2-4127-aae5-8e67d92061a4"
      },
      "source": [
        "#concat string (merge string)\n",
        "'abc'.join('efg')"
      ],
      "execution_count": null,
      "outputs": [
        {
          "output_type": "execute_result",
          "data": {
            "application/vnd.google.colaboratory.intrinsic+json": {
              "type": "string"
            },
            "text/plain": [
              "'eabcfabcg'"
            ]
          },
          "metadata": {
            "tags": []
          },
          "execution_count": 1
        }
      ]
    },
    {
      "cell_type": "code",
      "metadata": {
        "id": "g05tEwZ9dKbv"
      },
      "source": [
        "##split string\n",
        "filename = 'Peak03-2019-01-31.xls'\n",
        "split = filename.split('-', 1) #split by '-'; one time\n",
        "date = split[1].split('.')[0]\n"
      ],
      "execution_count": null,
      "outputs": []
    },
    {
      "cell_type": "markdown",
      "metadata": {
        "id": "A-aYSh5cFZ86"
      },
      "source": [
        "## Pandas Series"
      ]
    },
    {
      "cell_type": "code",
      "metadata": {
        "id": "_tyIjPCwMaEj"
      },
      "source": [
        "#create series\n",
        "pd.Series([1, 2, 3, 4], index=['a', 'b', 'c', 'd'])\n",
        "\n",
        "#create series\n",
        "dictionary = {\"key1\" : val1, \"key2\" : val2, \"key3\" : val3}\n",
        "  e.g. series={\"a\" : 1, \"b\" :2}\n",
        "obj.series = pd.Series(dictionary)"
      ],
      "execution_count": null,
      "outputs": []
    },
    {
      "cell_type": "code",
      "metadata": {
        "id": "Ch9MXH9AHCFk"
      },
      "source": [
        "series.name #name of series\n",
        "series.index.name #name of index of series"
      ],
      "execution_count": null,
      "outputs": []
    },
    {
      "cell_type": "code",
      "metadata": {
        "id": "E2pB2gXiFhXv"
      },
      "source": [
        "series.index #index\n",
        "series.values\n",
        "series.dtypes"
      ],
      "execution_count": null,
      "outputs": []
    },
    {
      "cell_type": "code",
      "metadata": {
        "id": "556M_9qCFcSR"
      },
      "source": [
        "series.sum(axis=0)\n",
        "series.sum(axis=1)"
      ],
      "execution_count": null,
      "outputs": []
    },
    {
      "cell_type": "markdown",
      "metadata": {
        "id": "TTR2LqghedEt"
      },
      "source": [
        "## Pandas Dataframe"
      ]
    },
    {
      "cell_type": "code",
      "metadata": {
        "id": "dxocgypvIP19"
      },
      "source": [
        "#data exploration\n",
        "df.index\n",
        "df.columns\n",
        "df.values\n",
        "\n",
        "df.index.name\n",
        "df.columns.name"
      ],
      "execution_count": null,
      "outputs": []
    },
    {
      "cell_type": "code",
      "metadata": {
        "id": "rOgNMunGu5ll"
      },
      "source": [
        "#rename colnames\n",
        "df.rename(columns={\"old_colname\":\"new_colname\"}, inplace=True)"
      ],
      "execution_count": null,
      "outputs": []
    },
    {
      "cell_type": "code",
      "metadata": {
        "id": "CNfAVpwtFnpY"
      },
      "source": [
        "#convert multiple pandas series into a dataframe\n",
        "df = concat([series1, series2, series3], axis=0) #by row\n",
        "df = concat([series1, series2, series3], axis=1) #by column"
      ],
      "execution_count": null,
      "outputs": []
    },
    {
      "cell_type": "code",
      "metadata": {
        "id": "jZhAixS7encw"
      },
      "source": [
        "df = df.iloc[1:2,3:4]"
      ],
      "execution_count": null,
      "outputs": []
    },
    {
      "cell_type": "code",
      "metadata": {
        "id": "zxp6xdBJ45hn"
      },
      "source": [
        "df1.append(df2)"
      ],
      "execution_count": null,
      "outputs": []
    },
    {
      "cell_type": "code",
      "metadata": {
        "id": "eZRyDoAByW6_"
      },
      "source": [
        "#check NA\n",
        "https://datatofish.com/check-nan-pandas-dataframe/\n",
        "\n",
        "def is_na(x):\n",
        "  return (x != x)\n",
        "\n",
        "#NA location\n",
        "df[df.isnull().any(axis=1)]['colName']\n",
        "df[df.isnull().any(axis=1)]['colName'].index"
      ],
      "execution_count": null,
      "outputs": []
    },
    {
      "cell_type": "markdown",
      "metadata": {
        "id": "WiD0TCJbyVE3"
      },
      "source": [
        "merge"
      ]
    },
    {
      "cell_type": "code",
      "metadata": {
        "id": "Q7ujQUPX4iTl"
      },
      "source": [
        "#df_merge requires the same colname by which dataframes are joined\n",
        "df_merge = pd.merge(df1, df2, how='outer/inner', on='common_colname')"
      ],
      "execution_count": null,
      "outputs": []
    },
    {
      "cell_type": "code",
      "metadata": {
        "id": "syyIf_aN4pHY"
      },
      "source": [
        "df_concat = pd.concat([df1, df2], axis = 1)"
      ],
      "execution_count": null,
      "outputs": []
    },
    {
      "cell_type": "markdown",
      "metadata": {
        "id": "YjectSwziNPs"
      },
      "source": [
        "## Numapy Array"
      ]
    },
    {
      "cell_type": "code",
      "metadata": {
        "id": "MSZQRDneiLyr"
      },
      "source": [
        "#convert list into array\n",
        "array = np.array(list)"
      ],
      "execution_count": null,
      "outputs": []
    },
    {
      "cell_type": "code",
      "metadata": {
        "id": "Y_IjHluaJLGT"
      },
      "source": [
        "#convert pandas series/dataframe into numpy array\n",
        "array = dataframe.to_numpy()\n",
        "array = series.to_numpy()"
      ],
      "execution_count": null,
      "outputs": []
    },
    {
      "cell_type": "markdown",
      "metadata": {
        "id": "_fkeiS1Id6dR"
      },
      "source": [
        "## timestamp"
      ]
    },
    {
      "cell_type": "code",
      "metadata": {
        "id": "dbq5ewz7d-zA"
      },
      "source": [
        "#timestamp example\n",
        "print(date + ' ' + df_data.columns[0])\n",
        "timestamp = time.mktime(datetime.strptime(date + ' ' + df_data.columns[0], '%Y-%m-%d %H:%M').timetuple())\n",
        "print(timestamp)"
      ],
      "execution_count": null,
      "outputs": []
    },
    {
      "cell_type": "markdown",
      "metadata": {
        "id": "fsMMwnmjd9Vh"
      },
      "source": [
        "# loop"
      ]
    },
    {
      "cell_type": "code",
      "metadata": {
        "id": "xZ_0EixBS-5B"
      },
      "source": [
        "if condition:\n",
        "  command\n",
        "elif condition:\n",
        "  command\n",
        "else:\n",
        "  command"
      ],
      "execution_count": null,
      "outputs": []
    },
    {
      "cell_type": "code",
      "metadata": {
        "id": "TiqF2K0iZJDb"
      },
      "source": [
        ""
      ],
      "execution_count": null,
      "outputs": []
    },
    {
      "cell_type": "code",
      "metadata": {
        "id": "mZPzRc3jd-NL"
      },
      "source": [
        "for i in range(len()):\n",
        "  cmd"
      ],
      "execution_count": null,
      "outputs": []
    },
    {
      "cell_type": "code",
      "metadata": {
        "colab": {
          "base_uri": "https://localhost:8080/",
          "height": 183
        },
        "id": "ohyqYP6_JyUU",
        "outputId": "75d665f8-6cb0-4108-ff28-11cff43d5813"
      },
      "source": [
        "for i in pd.Series([1,2,3,4]):\n",
        "  print(i)"
      ],
      "execution_count": 1,
      "outputs": [
        {
          "output_type": "error",
          "ename": "NameError",
          "evalue": "ignored",
          "traceback": [
            "\u001b[0;31m---------------------------------------------------------------------------\u001b[0m",
            "\u001b[0;31mNameError\u001b[0m                                 Traceback (most recent call last)",
            "\u001b[0;32m<ipython-input-1-0062e031e397>\u001b[0m in \u001b[0;36m<module>\u001b[0;34m()\u001b[0m\n\u001b[0;32m----> 1\u001b[0;31m \u001b[0;32mfor\u001b[0m \u001b[0mi\u001b[0m \u001b[0;32min\u001b[0m \u001b[0mpd\u001b[0m\u001b[0;34m.\u001b[0m\u001b[0mSeries\u001b[0m\u001b[0;34m(\u001b[0m\u001b[0;34m[\u001b[0m\u001b[0;36m1\u001b[0m\u001b[0;34m,\u001b[0m\u001b[0;36m2\u001b[0m\u001b[0;34m,\u001b[0m\u001b[0;36m3\u001b[0m\u001b[0;34m,\u001b[0m\u001b[0;36m4\u001b[0m\u001b[0;34m]\u001b[0m\u001b[0;34m)\u001b[0m\u001b[0;34m:\u001b[0m\u001b[0;34m\u001b[0m\u001b[0;34m\u001b[0m\u001b[0m\n\u001b[0m\u001b[1;32m      2\u001b[0m   \u001b[0mprint\u001b[0m\u001b[0;34m(\u001b[0m\u001b[0mi\u001b[0m\u001b[0;34m)\u001b[0m\u001b[0;34m\u001b[0m\u001b[0;34m\u001b[0m\u001b[0m\n",
            "\u001b[0;31mNameError\u001b[0m: name 'pd' is not defined"
          ]
        }
      ]
    },
    {
      "cell_type": "code",
      "metadata": {
        "colab": {
          "base_uri": "https://localhost:8080/",
          "height": 166
        },
        "id": "6oAglOW4eQhm",
        "outputId": "0092afe5-dea2-4ab4-bf19-23e041c2eb88"
      },
      "source": [
        "[files for files in filenames]"
      ],
      "execution_count": null,
      "outputs": [
        {
          "output_type": "error",
          "ename": "NameError",
          "evalue": "ignored",
          "traceback": [
            "\u001b[0;31m---------------------------------------------------------------------------\u001b[0m",
            "\u001b[0;31mNameError\u001b[0m                                 Traceback (most recent call last)",
            "\u001b[0;32m<ipython-input-2-c28b8f8966fc>\u001b[0m in \u001b[0;36m<module>\u001b[0;34m()\u001b[0m\n\u001b[0;32m----> 1\u001b[0;31m \u001b[0;34m[\u001b[0m\u001b[0mfiles\u001b[0m \u001b[0;32mfor\u001b[0m \u001b[0mfiles\u001b[0m \u001b[0;32min\u001b[0m \u001b[0mfilenames\u001b[0m\u001b[0;34m]\u001b[0m\u001b[0;34m\u001b[0m\u001b[0;34m\u001b[0m\u001b[0m\n\u001b[0m",
            "\u001b[0;31mNameError\u001b[0m: name 'filenames' is not defined"
          ]
        }
      ]
    },
    {
      "cell_type": "markdown",
      "metadata": {
        "id": "ulLVnSDRi8LD"
      },
      "source": [
        "# Data Exploration"
      ]
    },
    {
      "cell_type": "code",
      "metadata": {
        "id": "Bzamh6KkjLBE"
      },
      "source": [
        "df['discrete_colname'].value_counts()"
      ],
      "execution_count": null,
      "outputs": []
    },
    {
      "cell_type": "code",
      "metadata": {
        "id": "yrs-8nr-jLct"
      },
      "source": [
        "df['continuous_colname'].describe()"
      ],
      "execution_count": null,
      "outputs": []
    },
    {
      "cell_type": "markdown",
      "metadata": {
        "id": "EYvHjmUCjAxV"
      },
      "source": [
        "# Plot\n",
        "\n"
      ]
    },
    {
      "cell_type": "code",
      "metadata": {
        "id": "H27ryAukjU12"
      },
      "source": [
        "#basic setting\n",
        "%matplot inline #only in a Jupyter notebook\n",
        "import matplotlib.pyplot as plt\n",
        "\n",
        "#figure size\n",
        "plt.rcParams['figure.figsize'] = [10, 5]"
      ],
      "execution_count": null,
      "outputs": []
    },
    {
      "cell_type": "code",
      "metadata": {
        "id": "jlpO0xU6cyCC"
      },
      "source": [
        "df.hist(bins, figsize=(20,15))"
      ],
      "execution_count": null,
      "outputs": []
    },
    {
      "cell_type": "code",
      "metadata": {
        "id": "nST7FeHXcihK"
      },
      "source": [
        "x = list\n",
        "y = list\n",
        "t = list_time\n",
        "\n",
        "plt.figure\n",
        "plt.subplot(1,1,1)\n",
        "plt.plot(t, xn, 'b')\n",
        "plt.plot(t, y, 'r')\n",
        "plt.legend(('legend_x','legend_y'), loc='best')\n",
        "plt.grid(True)\n",
        "plt.show()"
      ],
      "execution_count": null,
      "outputs": []
    },
    {
      "cell_type": "markdown",
      "metadata": {
        "id": "iqqrznrGi-P1"
      },
      "source": [
        ""
      ]
    }
  ]
}